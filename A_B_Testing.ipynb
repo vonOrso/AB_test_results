{
 "cells": [
  {
   "cell_type": "code",
   "execution_count": 1,
   "metadata": {
    "executionInfo": {
     "elapsed": 282,
     "status": "ok",
     "timestamp": 1644584732645,
     "user": {
      "displayName": "Ви Колаб",
      "photoUrl": "https://lh3.googleusercontent.com/a-/AOh14GhlJDbx-1O-h8TctKuZMXeldr_Lr4lelXZQ_JrK=s64",
      "userId": "02862000375646745385"
     },
     "user_tz": -120
    },
    "id": "gvTp-m9vzlnL"
   },
   "outputs": [],
   "source": [
    "import pandas as pd\n",
    "import numpy as np\n",
    "import statsmodels.stats.api as sms\n",
    "import scipy.stats as stats\n",
    "from math import ceil\n",
    "from statsmodels.stats.proportion import proportions_ztest, proportion_confint\n",
    "\n",
    "import sup_defs"
   ]
  },
  {
   "cell_type": "markdown",
   "metadata": {},
   "source": [
    "What do we have here?"
   ]
  },
  {
   "cell_type": "code",
   "execution_count": 2,
   "metadata": {
    "colab": {
     "base_uri": "https://localhost:8080/",
     "height": 424
    },
    "executionInfo": {
     "elapsed": 342,
     "status": "ok",
     "timestamp": 1644584733377,
     "user": {
      "displayName": "Ви Колаб",
      "photoUrl": "https://lh3.googleusercontent.com/a-/AOh14GhlJDbx-1O-h8TctKuZMXeldr_Lr4lelXZQ_JrK=s64",
      "userId": "02862000375646745385"
     },
     "user_tz": -120
    },
    "id": "ga_URFY0zpUz",
    "outputId": "f244f4c6-8cff-4d3a-b9ec-de7ad3ef4b86"
   },
   "outputs": [
    {
     "data": {
      "text/html": [
       "<div>\n",
       "<style scoped>\n",
       "    .dataframe tbody tr th:only-of-type {\n",
       "        vertical-align: middle;\n",
       "    }\n",
       "\n",
       "    .dataframe tbody tr th {\n",
       "        vertical-align: top;\n",
       "    }\n",
       "\n",
       "    .dataframe thead th {\n",
       "        text-align: right;\n",
       "    }\n",
       "</style>\n",
       "<table border=\"1\" class=\"dataframe\">\n",
       "  <thead>\n",
       "    <tr style=\"text-align: right;\">\n",
       "      <th></th>\n",
       "      <th>user_id</th>\n",
       "      <th>timestamp</th>\n",
       "      <th>group</th>\n",
       "      <th>landing_page</th>\n",
       "      <th>converted</th>\n",
       "    </tr>\n",
       "  </thead>\n",
       "  <tbody>\n",
       "    <tr>\n",
       "      <th>0</th>\n",
       "      <td>851104</td>\n",
       "      <td>2017-01-21 22:11:48.556739</td>\n",
       "      <td>control</td>\n",
       "      <td>old_page</td>\n",
       "      <td>0</td>\n",
       "    </tr>\n",
       "    <tr>\n",
       "      <th>1</th>\n",
       "      <td>804228</td>\n",
       "      <td>2017-01-12 08:01:45.159739</td>\n",
       "      <td>control</td>\n",
       "      <td>old_page</td>\n",
       "      <td>0</td>\n",
       "    </tr>\n",
       "    <tr>\n",
       "      <th>2</th>\n",
       "      <td>661590</td>\n",
       "      <td>2017-01-11 16:55:06.154213</td>\n",
       "      <td>treatment</td>\n",
       "      <td>new_page</td>\n",
       "      <td>0</td>\n",
       "    </tr>\n",
       "    <tr>\n",
       "      <th>3</th>\n",
       "      <td>853541</td>\n",
       "      <td>2017-01-08 18:28:03.143765</td>\n",
       "      <td>treatment</td>\n",
       "      <td>new_page</td>\n",
       "      <td>0</td>\n",
       "    </tr>\n",
       "    <tr>\n",
       "      <th>4</th>\n",
       "      <td>864975</td>\n",
       "      <td>2017-01-21 01:52:26.210827</td>\n",
       "      <td>control</td>\n",
       "      <td>old_page</td>\n",
       "      <td>1</td>\n",
       "    </tr>\n",
       "    <tr>\n",
       "      <th>...</th>\n",
       "      <td>...</td>\n",
       "      <td>...</td>\n",
       "      <td>...</td>\n",
       "      <td>...</td>\n",
       "      <td>...</td>\n",
       "    </tr>\n",
       "    <tr>\n",
       "      <th>294473</th>\n",
       "      <td>751197</td>\n",
       "      <td>2017-01-03 22:28:38.630509</td>\n",
       "      <td>control</td>\n",
       "      <td>old_page</td>\n",
       "      <td>0</td>\n",
       "    </tr>\n",
       "    <tr>\n",
       "      <th>294474</th>\n",
       "      <td>945152</td>\n",
       "      <td>2017-01-12 00:51:57.078372</td>\n",
       "      <td>control</td>\n",
       "      <td>old_page</td>\n",
       "      <td>0</td>\n",
       "    </tr>\n",
       "    <tr>\n",
       "      <th>294475</th>\n",
       "      <td>734608</td>\n",
       "      <td>2017-01-22 11:45:03.439544</td>\n",
       "      <td>control</td>\n",
       "      <td>old_page</td>\n",
       "      <td>0</td>\n",
       "    </tr>\n",
       "    <tr>\n",
       "      <th>294476</th>\n",
       "      <td>697314</td>\n",
       "      <td>2017-01-15 01:20:28.957438</td>\n",
       "      <td>control</td>\n",
       "      <td>old_page</td>\n",
       "      <td>0</td>\n",
       "    </tr>\n",
       "    <tr>\n",
       "      <th>294477</th>\n",
       "      <td>715931</td>\n",
       "      <td>2017-01-16 12:40:24.467417</td>\n",
       "      <td>treatment</td>\n",
       "      <td>new_page</td>\n",
       "      <td>0</td>\n",
       "    </tr>\n",
       "  </tbody>\n",
       "</table>\n",
       "<p>294478 rows × 5 columns</p>\n",
       "</div>"
      ],
      "text/plain": [
       "        user_id                   timestamp      group landing_page  converted\n",
       "0        851104  2017-01-21 22:11:48.556739    control     old_page          0\n",
       "1        804228  2017-01-12 08:01:45.159739    control     old_page          0\n",
       "2        661590  2017-01-11 16:55:06.154213  treatment     new_page          0\n",
       "3        853541  2017-01-08 18:28:03.143765  treatment     new_page          0\n",
       "4        864975  2017-01-21 01:52:26.210827    control     old_page          1\n",
       "...         ...                         ...        ...          ...        ...\n",
       "294473   751197  2017-01-03 22:28:38.630509    control     old_page          0\n",
       "294474   945152  2017-01-12 00:51:57.078372    control     old_page          0\n",
       "294475   734608  2017-01-22 11:45:03.439544    control     old_page          0\n",
       "294476   697314  2017-01-15 01:20:28.957438    control     old_page          0\n",
       "294477   715931  2017-01-16 12:40:24.467417  treatment     new_page          0\n",
       "\n",
       "[294478 rows x 5 columns]"
      ]
     },
     "execution_count": 2,
     "metadata": {},
     "output_type": "execute_result"
    }
   ],
   "source": [
    "ab_data = pd.read_csv('ab_data.csv')\n",
    "ab_data"
   ]
  },
  {
   "cell_type": "markdown",
   "metadata": {},
   "source": [
    "No nulls found"
   ]
  },
  {
   "cell_type": "code",
   "execution_count": 3,
   "metadata": {
    "colab": {
     "base_uri": "https://localhost:8080/"
    },
    "executionInfo": {
     "elapsed": 16,
     "status": "ok",
     "timestamp": 1644584733378,
     "user": {
      "displayName": "Ви Колаб",
      "photoUrl": "https://lh3.googleusercontent.com/a-/AOh14GhlJDbx-1O-h8TctKuZMXeldr_Lr4lelXZQ_JrK=s64",
      "userId": "02862000375646745385"
     },
     "user_tz": -120
    },
    "id": "5y7X8mH21Lt9",
    "outputId": "bec04b0c-c999-4348-fc25-4094dafe47bb"
   },
   "outputs": [
    {
     "name": "stdout",
     "output_type": "stream",
     "text": [
      "<class 'pandas.core.frame.DataFrame'>\n",
      "RangeIndex: 294478 entries, 0 to 294477\n",
      "Data columns (total 5 columns):\n",
      " #   Column        Non-Null Count   Dtype \n",
      "---  ------        --------------   ----- \n",
      " 0   user_id       294478 non-null  int64 \n",
      " 1   timestamp     294478 non-null  object\n",
      " 2   group         294478 non-null  object\n",
      " 3   landing_page  294478 non-null  object\n",
      " 4   converted     294478 non-null  int64 \n",
      "dtypes: int64(2), object(3)\n",
      "memory usage: 11.2+ MB\n"
     ]
    }
   ],
   "source": [
    "ab_data.info()"
   ]
  },
  {
   "cell_type": "markdown",
   "metadata": {},
   "source": [
    "Groups differ in size, something is wrong here"
   ]
  },
  {
   "cell_type": "code",
   "execution_count": 4,
   "metadata": {
    "colab": {
     "base_uri": "https://localhost:8080/"
    },
    "executionInfo": {
     "elapsed": 9,
     "status": "ok",
     "timestamp": 1644584733378,
     "user": {
      "displayName": "Ви Колаб",
      "photoUrl": "https://lh3.googleusercontent.com/a-/AOh14GhlJDbx-1O-h8TctKuZMXeldr_Lr4lelXZQ_JrK=s64",
      "userId": "02862000375646745385"
     },
     "user_tz": -120
    },
    "id": "WcfsDu6r18vU",
    "outputId": "ca9e194d-0b52-4b39-d49d-8291af8f61ea"
   },
   "outputs": [
    {
     "data": {
      "text/plain": [
       "treatment    147276\n",
       "control      147202\n",
       "Name: group, dtype: int64"
      ]
     },
     "execution_count": 4,
     "metadata": {},
     "output_type": "execute_result"
    }
   ],
   "source": [
    "ab_data['group'].value_counts()"
   ]
  },
  {
   "cell_type": "markdown",
   "metadata": {},
   "source": [
    "The 'group' and 'landing_page' columns should be the same size, but have a different number of observations. This is a job for a ~witcher~ analyst"
   ]
  },
  {
   "cell_type": "code",
   "execution_count": 5,
   "metadata": {
    "colab": {
     "base_uri": "https://localhost:8080/"
    },
    "executionInfo": {
     "elapsed": 6,
     "status": "ok",
     "timestamp": 1644584733378,
     "user": {
      "displayName": "Ви Колаб",
      "photoUrl": "https://lh3.googleusercontent.com/a-/AOh14GhlJDbx-1O-h8TctKuZMXeldr_Lr4lelXZQ_JrK=s64",
      "userId": "02862000375646745385"
     },
     "user_tz": -120
    },
    "id": "oXosXf6w2Io3",
    "outputId": "b82484fc-86c1-4e58-a473-819d49e74762"
   },
   "outputs": [
    {
     "data": {
      "text/plain": [
       "old_page    147239\n",
       "new_page    147239\n",
       "Name: landing_page, dtype: int64"
      ]
     },
     "execution_count": 5,
     "metadata": {},
     "output_type": "execute_result"
    }
   ],
   "source": [
    "ab_data['landing_page'].value_counts()"
   ]
  },
  {
   "cell_type": "markdown",
   "metadata": {},
   "source": [
    "Four thousand messed up lines, that's a lot"
   ]
  },
  {
   "cell_type": "code",
   "execution_count": 6,
   "metadata": {
    "colab": {
     "base_uri": "https://localhost:8080/",
     "height": 424
    },
    "executionInfo": {
     "elapsed": 282,
     "status": "ok",
     "timestamp": 1644584733657,
     "user": {
      "displayName": "Ви Колаб",
      "photoUrl": "https://lh3.googleusercontent.com/a-/AOh14GhlJDbx-1O-h8TctKuZMXeldr_Lr4lelXZQ_JrK=s64",
      "userId": "02862000375646745385"
     },
     "user_tz": -120
    },
    "id": "3wnEFgPy1Xni",
    "outputId": "b17104a9-8a9a-4df6-ccf5-39d3e9073835"
   },
   "outputs": [
    {
     "data": {
      "text/html": [
       "<div>\n",
       "<style scoped>\n",
       "    .dataframe tbody tr th:only-of-type {\n",
       "        vertical-align: middle;\n",
       "    }\n",
       "\n",
       "    .dataframe tbody tr th {\n",
       "        vertical-align: top;\n",
       "    }\n",
       "\n",
       "    .dataframe thead th {\n",
       "        text-align: right;\n",
       "    }\n",
       "</style>\n",
       "<table border=\"1\" class=\"dataframe\">\n",
       "  <thead>\n",
       "    <tr style=\"text-align: right;\">\n",
       "      <th></th>\n",
       "      <th>user_id</th>\n",
       "      <th>timestamp</th>\n",
       "      <th>group</th>\n",
       "      <th>landing_page</th>\n",
       "      <th>converted</th>\n",
       "      <th>check_page</th>\n",
       "    </tr>\n",
       "  </thead>\n",
       "  <tbody>\n",
       "    <tr>\n",
       "      <th>22</th>\n",
       "      <td>767017</td>\n",
       "      <td>2017-01-12 22:58:14.991443</td>\n",
       "      <td>control</td>\n",
       "      <td>new_page</td>\n",
       "      <td>0</td>\n",
       "      <td>treatment</td>\n",
       "    </tr>\n",
       "    <tr>\n",
       "      <th>240</th>\n",
       "      <td>733976</td>\n",
       "      <td>2017-01-11 15:11:16.407599</td>\n",
       "      <td>control</td>\n",
       "      <td>new_page</td>\n",
       "      <td>0</td>\n",
       "      <td>treatment</td>\n",
       "    </tr>\n",
       "    <tr>\n",
       "      <th>308</th>\n",
       "      <td>857184</td>\n",
       "      <td>2017-01-20 07:34:59.832626</td>\n",
       "      <td>treatment</td>\n",
       "      <td>old_page</td>\n",
       "      <td>0</td>\n",
       "      <td>control</td>\n",
       "    </tr>\n",
       "    <tr>\n",
       "      <th>327</th>\n",
       "      <td>686623</td>\n",
       "      <td>2017-01-09 14:26:40.734775</td>\n",
       "      <td>treatment</td>\n",
       "      <td>old_page</td>\n",
       "      <td>0</td>\n",
       "      <td>control</td>\n",
       "    </tr>\n",
       "    <tr>\n",
       "      <th>357</th>\n",
       "      <td>856078</td>\n",
       "      <td>2017-01-12 12:29:30.354835</td>\n",
       "      <td>treatment</td>\n",
       "      <td>old_page</td>\n",
       "      <td>0</td>\n",
       "      <td>control</td>\n",
       "    </tr>\n",
       "    <tr>\n",
       "      <th>...</th>\n",
       "      <td>...</td>\n",
       "      <td>...</td>\n",
       "      <td>...</td>\n",
       "      <td>...</td>\n",
       "      <td>...</td>\n",
       "      <td>...</td>\n",
       "    </tr>\n",
       "    <tr>\n",
       "      <th>294014</th>\n",
       "      <td>813406</td>\n",
       "      <td>2017-01-09 06:25:33.223301</td>\n",
       "      <td>treatment</td>\n",
       "      <td>old_page</td>\n",
       "      <td>0</td>\n",
       "      <td>control</td>\n",
       "    </tr>\n",
       "    <tr>\n",
       "      <th>294200</th>\n",
       "      <td>928506</td>\n",
       "      <td>2017-01-13 21:32:10.491309</td>\n",
       "      <td>control</td>\n",
       "      <td>new_page</td>\n",
       "      <td>0</td>\n",
       "      <td>treatment</td>\n",
       "    </tr>\n",
       "    <tr>\n",
       "      <th>294252</th>\n",
       "      <td>892498</td>\n",
       "      <td>2017-01-22 01:11:10.463211</td>\n",
       "      <td>treatment</td>\n",
       "      <td>old_page</td>\n",
       "      <td>0</td>\n",
       "      <td>control</td>\n",
       "    </tr>\n",
       "    <tr>\n",
       "      <th>294253</th>\n",
       "      <td>886135</td>\n",
       "      <td>2017-01-06 12:49:20.509403</td>\n",
       "      <td>control</td>\n",
       "      <td>new_page</td>\n",
       "      <td>0</td>\n",
       "      <td>treatment</td>\n",
       "    </tr>\n",
       "    <tr>\n",
       "      <th>294331</th>\n",
       "      <td>689637</td>\n",
       "      <td>2017-01-13 11:34:28.339532</td>\n",
       "      <td>control</td>\n",
       "      <td>new_page</td>\n",
       "      <td>0</td>\n",
       "      <td>treatment</td>\n",
       "    </tr>\n",
       "  </tbody>\n",
       "</table>\n",
       "<p>3893 rows × 6 columns</p>\n",
       "</div>"
      ],
      "text/plain": [
       "        user_id                   timestamp      group landing_page  \\\n",
       "22       767017  2017-01-12 22:58:14.991443    control     new_page   \n",
       "240      733976  2017-01-11 15:11:16.407599    control     new_page   \n",
       "308      857184  2017-01-20 07:34:59.832626  treatment     old_page   \n",
       "327      686623  2017-01-09 14:26:40.734775  treatment     old_page   \n",
       "357      856078  2017-01-12 12:29:30.354835  treatment     old_page   \n",
       "...         ...                         ...        ...          ...   \n",
       "294014   813406  2017-01-09 06:25:33.223301  treatment     old_page   \n",
       "294200   928506  2017-01-13 21:32:10.491309    control     new_page   \n",
       "294252   892498  2017-01-22 01:11:10.463211  treatment     old_page   \n",
       "294253   886135  2017-01-06 12:49:20.509403    control     new_page   \n",
       "294331   689637  2017-01-13 11:34:28.339532    control     new_page   \n",
       "\n",
       "        converted check_page  \n",
       "22              0  treatment  \n",
       "240             0  treatment  \n",
       "308             0    control  \n",
       "327             0    control  \n",
       "357             0    control  \n",
       "...           ...        ...  \n",
       "294014          0    control  \n",
       "294200          0  treatment  \n",
       "294252          0    control  \n",
       "294253          0  treatment  \n",
       "294331          0  treatment  \n",
       "\n",
       "[3893 rows x 6 columns]"
      ]
     },
     "execution_count": 6,
     "metadata": {},
     "output_type": "execute_result"
    }
   ],
   "source": [
    "ab_data['check_page'] = ab_data['landing_page'].replace({'old_page':'control', \n",
    "                                                         'new_page':'treatment'})\n",
    "ab_data[ab_data['group'] != ab_data['check_page']]"
   ]
  },
  {
   "cell_type": "markdown",
   "metadata": {},
   "source": [
    "Perhaps the problem is with the users. It needs to be checked"
   ]
  },
  {
   "cell_type": "code",
   "execution_count": 7,
   "metadata": {
    "colab": {
     "base_uri": "https://localhost:8080/"
    },
    "executionInfo": {
     "elapsed": 21,
     "status": "ok",
     "timestamp": 1644584734323,
     "user": {
      "displayName": "Ви Колаб",
      "photoUrl": "https://lh3.googleusercontent.com/a-/AOh14GhlJDbx-1O-h8TctKuZMXeldr_Lr4lelXZQ_JrK=s64",
      "userId": "02862000375646745385"
     },
     "user_tz": -120
    },
    "id": "T8tnpPbw3AIe",
    "outputId": "31fb60ea-a480-476d-b5f4-509e32e1e129"
   },
   "outputs": [
    {
     "data": {
      "text/plain": [
       "710039    2\n",
       "867226    2\n",
       "911040    2\n",
       "926754    2\n",
       "870710    2\n",
       "         ..\n",
       "917311    1\n",
       "930737    1\n",
       "630252    1\n",
       "913465    1\n",
       "920411    1\n",
       "Name: user_id, Length: 290584, dtype: int64"
      ]
     },
     "execution_count": 7,
     "metadata": {},
     "output_type": "execute_result"
    }
   ],
   "source": [
    "ab_data = ab_data.sort_values(by='timestamp')\n",
    "ab_data['user_id'].value_counts()"
   ]
  },
  {
   "cell_type": "markdown",
   "metadata": {},
   "source": [
    "Very strange, the same page was shown to one user, but he was assigned to different groups. Another user was shown different pages but was assigned to the same group. If during A-B testing both options are shown to one user, he should belong to different groups, and if there is one option, then the group should be the same."
   ]
  },
  {
   "cell_type": "code",
   "execution_count": 8,
   "metadata": {
    "colab": {
     "base_uri": "https://localhost:8080/",
     "height": 112
    },
    "executionInfo": {
     "elapsed": 18,
     "status": "ok",
     "timestamp": 1644584734323,
     "user": {
      "displayName": "Ви Колаб",
      "photoUrl": "https://lh3.googleusercontent.com/a-/AOh14GhlJDbx-1O-h8TctKuZMXeldr_Lr4lelXZQ_JrK=s64",
      "userId": "02862000375646745385"
     },
     "user_tz": -120
    },
    "id": "BdMzEbAq3Zlk",
    "outputId": "cced32b0-f604-4051-bdf0-091499c3b000"
   },
   "outputs": [
    {
     "data": {
      "text/html": [
       "<div>\n",
       "<style scoped>\n",
       "    .dataframe tbody tr th:only-of-type {\n",
       "        vertical-align: middle;\n",
       "    }\n",
       "\n",
       "    .dataframe tbody tr th {\n",
       "        vertical-align: top;\n",
       "    }\n",
       "\n",
       "    .dataframe thead th {\n",
       "        text-align: right;\n",
       "    }\n",
       "</style>\n",
       "<table border=\"1\" class=\"dataframe\">\n",
       "  <thead>\n",
       "    <tr style=\"text-align: right;\">\n",
       "      <th></th>\n",
       "      <th>user_id</th>\n",
       "      <th>timestamp</th>\n",
       "      <th>group</th>\n",
       "      <th>landing_page</th>\n",
       "      <th>converted</th>\n",
       "      <th>check_page</th>\n",
       "    </tr>\n",
       "  </thead>\n",
       "  <tbody>\n",
       "    <tr>\n",
       "      <th>90794</th>\n",
       "      <td>805339</td>\n",
       "      <td>2017-01-12 08:45:15.557052</td>\n",
       "      <td>treatment</td>\n",
       "      <td>old_page</td>\n",
       "      <td>0</td>\n",
       "      <td>control</td>\n",
       "    </tr>\n",
       "    <tr>\n",
       "      <th>234436</th>\n",
       "      <td>805339</td>\n",
       "      <td>2017-01-22 23:00:09.005288</td>\n",
       "      <td>control</td>\n",
       "      <td>old_page</td>\n",
       "      <td>0</td>\n",
       "      <td>control</td>\n",
       "    </tr>\n",
       "  </tbody>\n",
       "</table>\n",
       "</div>"
      ],
      "text/plain": [
       "        user_id                   timestamp      group landing_page  \\\n",
       "90794    805339  2017-01-12 08:45:15.557052  treatment     old_page   \n",
       "234436   805339  2017-01-22 23:00:09.005288    control     old_page   \n",
       "\n",
       "        converted check_page  \n",
       "90794           0    control  \n",
       "234436          0    control  "
      ]
     },
     "execution_count": 8,
     "metadata": {},
     "output_type": "execute_result"
    }
   ],
   "source": [
    "ab_data[ab_data['user_id'] == 805339]"
   ]
  },
  {
   "cell_type": "code",
   "execution_count": 9,
   "metadata": {
    "colab": {
     "base_uri": "https://localhost:8080/",
     "height": 112
    },
    "executionInfo": {
     "elapsed": 17,
     "status": "ok",
     "timestamp": 1644584734324,
     "user": {
      "displayName": "Ви Колаб",
      "photoUrl": "https://lh3.googleusercontent.com/a-/AOh14GhlJDbx-1O-h8TctKuZMXeldr_Lr4lelXZQ_JrK=s64",
      "userId": "02862000375646745385"
     },
     "user_tz": -120
    },
    "id": "loFR0wx83sKW",
    "outputId": "adbb3765-42aa-4172-df81-ab0427820c82"
   },
   "outputs": [
    {
     "data": {
      "text/html": [
       "<div>\n",
       "<style scoped>\n",
       "    .dataframe tbody tr th:only-of-type {\n",
       "        vertical-align: middle;\n",
       "    }\n",
       "\n",
       "    .dataframe tbody tr th {\n",
       "        vertical-align: top;\n",
       "    }\n",
       "\n",
       "    .dataframe thead th {\n",
       "        text-align: right;\n",
       "    }\n",
       "</style>\n",
       "<table border=\"1\" class=\"dataframe\">\n",
       "  <thead>\n",
       "    <tr style=\"text-align: right;\">\n",
       "      <th></th>\n",
       "      <th>user_id</th>\n",
       "      <th>timestamp</th>\n",
       "      <th>group</th>\n",
       "      <th>landing_page</th>\n",
       "      <th>converted</th>\n",
       "      <th>check_page</th>\n",
       "    </tr>\n",
       "  </thead>\n",
       "  <tbody>\n",
       "    <tr>\n",
       "      <th>245524</th>\n",
       "      <td>754884</td>\n",
       "      <td>2017-01-17 23:46:45.624036</td>\n",
       "      <td>treatment</td>\n",
       "      <td>new_page</td>\n",
       "      <td>0</td>\n",
       "      <td>treatment</td>\n",
       "    </tr>\n",
       "    <tr>\n",
       "      <th>236842</th>\n",
       "      <td>754884</td>\n",
       "      <td>2017-01-18 20:10:48.538515</td>\n",
       "      <td>treatment</td>\n",
       "      <td>old_page</td>\n",
       "      <td>0</td>\n",
       "      <td>control</td>\n",
       "    </tr>\n",
       "  </tbody>\n",
       "</table>\n",
       "</div>"
      ],
      "text/plain": [
       "        user_id                   timestamp      group landing_page  \\\n",
       "245524   754884  2017-01-17 23:46:45.624036  treatment     new_page   \n",
       "236842   754884  2017-01-18 20:10:48.538515  treatment     old_page   \n",
       "\n",
       "        converted check_page  \n",
       "245524          0  treatment  \n",
       "236842          0    control  "
      ]
     },
     "execution_count": 9,
     "metadata": {},
     "output_type": "execute_result"
    }
   ],
   "source": [
    "ab_data[ab_data['user_id'] == 754884]"
   ]
  },
  {
   "cell_type": "code",
   "execution_count": 10,
   "metadata": {
    "colab": {
     "base_uri": "https://localhost:8080/",
     "height": 112
    },
    "executionInfo": {
     "elapsed": 16,
     "status": "ok",
     "timestamp": 1644584734324,
     "user": {
      "displayName": "Ви Колаб",
      "photoUrl": "https://lh3.googleusercontent.com/a-/AOh14GhlJDbx-1O-h8TctKuZMXeldr_Lr4lelXZQ_JrK=s64",
      "userId": "02862000375646745385"
     },
     "user_tz": -120
    },
    "id": "lFVKyVtP35Wm",
    "outputId": "b242c83c-4d06-4456-a9c3-e38e93c6d76c"
   },
   "outputs": [
    {
     "data": {
      "text/html": [
       "<div>\n",
       "<style scoped>\n",
       "    .dataframe tbody tr th:only-of-type {\n",
       "        vertical-align: middle;\n",
       "    }\n",
       "\n",
       "    .dataframe tbody tr th {\n",
       "        vertical-align: top;\n",
       "    }\n",
       "\n",
       "    .dataframe thead th {\n",
       "        text-align: right;\n",
       "    }\n",
       "</style>\n",
       "<table border=\"1\" class=\"dataframe\">\n",
       "  <thead>\n",
       "    <tr style=\"text-align: right;\">\n",
       "      <th></th>\n",
       "      <th>user_id</th>\n",
       "      <th>timestamp</th>\n",
       "      <th>group</th>\n",
       "      <th>landing_page</th>\n",
       "      <th>converted</th>\n",
       "      <th>check_page</th>\n",
       "    </tr>\n",
       "  </thead>\n",
       "  <tbody>\n",
       "    <tr>\n",
       "      <th>262554</th>\n",
       "      <td>722274</td>\n",
       "      <td>2017-01-09 21:21:23.638444</td>\n",
       "      <td>control</td>\n",
       "      <td>new_page</td>\n",
       "      <td>0</td>\n",
       "      <td>treatment</td>\n",
       "    </tr>\n",
       "    <tr>\n",
       "      <th>105487</th>\n",
       "      <td>722274</td>\n",
       "      <td>2017-01-19 01:46:53.093257</td>\n",
       "      <td>control</td>\n",
       "      <td>old_page</td>\n",
       "      <td>0</td>\n",
       "      <td>control</td>\n",
       "    </tr>\n",
       "  </tbody>\n",
       "</table>\n",
       "</div>"
      ],
      "text/plain": [
       "        user_id                   timestamp    group landing_page  converted  \\\n",
       "262554   722274  2017-01-09 21:21:23.638444  control     new_page          0   \n",
       "105487   722274  2017-01-19 01:46:53.093257  control     old_page          0   \n",
       "\n",
       "       check_page  \n",
       "262554  treatment  \n",
       "105487    control  "
      ]
     },
     "execution_count": 10,
     "metadata": {},
     "output_type": "execute_result"
    }
   ],
   "source": [
    "ab_data[ab_data['user_id'] == 722274]"
   ]
  },
  {
   "cell_type": "markdown",
   "metadata": {
    "executionInfo": {
     "elapsed": 15,
     "status": "ok",
     "timestamp": 1644584734325,
     "user": {
      "displayName": "Ви Колаб",
      "photoUrl": "https://lh3.googleusercontent.com/a-/AOh14GhlJDbx-1O-h8TctKuZMXeldr_Lr4lelXZQ_JrK=s64",
      "userId": "02862000375646745385"
     },
     "user_tz": -120
    },
    "id": "z8XtaTgJ2aLD"
   },
   "source": [
    "If you remove all inconsistencies, all duplicate users disappear (except one)"
   ]
  },
  {
   "cell_type": "code",
   "execution_count": 11,
   "metadata": {
    "colab": {
     "base_uri": "https://localhost:8080/"
    },
    "executionInfo": {
     "elapsed": 15,
     "status": "ok",
     "timestamp": 1644584734325,
     "user": {
      "displayName": "Ви Колаб",
      "photoUrl": "https://lh3.googleusercontent.com/a-/AOh14GhlJDbx-1O-h8TctKuZMXeldr_Lr4lelXZQ_JrK=s64",
      "userId": "02862000375646745385"
     },
     "user_tz": -120
    },
    "id": "uC0qyifOCXYT",
    "outputId": "9bb19014-1210-4b01-c099-97cca72e65e1"
   },
   "outputs": [
    {
     "data": {
      "text/plain": [
       "773192    2\n",
       "922696    1\n",
       "829063    1\n",
       "867327    1\n",
       "762358    1\n",
       "         ..\n",
       "655980    1\n",
       "861027    1\n",
       "887897    1\n",
       "924198    1\n",
       "920411    1\n",
       "Name: user_id, Length: 290584, dtype: int64"
      ]
     },
     "execution_count": 11,
     "metadata": {},
     "output_type": "execute_result"
    }
   ],
   "source": [
    "ab_data_cl = ab_data[ab_data['group'] == ab_data['check_page']]\n",
    "ab_data_cl['user_id'].value_counts()"
   ]
  },
  {
   "cell_type": "markdown",
   "metadata": {
    "executionInfo": {
     "elapsed": 7,
     "status": "ok",
     "timestamp": 1644584734325,
     "user": {
      "displayName": "Ви Колаб",
      "photoUrl": "https://lh3.googleusercontent.com/a-/AOh14GhlJDbx-1O-h8TctKuZMXeldr_Lr4lelXZQ_JrK=s64",
      "userId": "02862000375646745385"
     },
     "user_tz": -120
    },
    "id": "gnpd1qQ6FVcK"
   },
   "source": [
    "I think it's better to ignore this exception"
   ]
  },
  {
   "cell_type": "code",
   "execution_count": 12,
   "metadata": {
    "colab": {
     "base_uri": "https://localhost:8080/"
    },
    "executionInfo": {
     "elapsed": 386,
     "status": "ok",
     "timestamp": 1644584734704,
     "user": {
      "displayName": "Ви Колаб",
      "photoUrl": "https://lh3.googleusercontent.com/a-/AOh14GhlJDbx-1O-h8TctKuZMXeldr_Lr4lelXZQ_JrK=s64",
      "userId": "02862000375646745385"
     },
     "user_tz": -120
    },
    "id": "k7Zcv4dc2c1T",
    "outputId": "73220f86-2718-432c-e1ac-27ead8202e83"
   },
   "outputs": [
    {
     "data": {
      "text/plain": [
       "new_page    145310\n",
       "old_page    145274\n",
       "Name: landing_page, dtype: int64"
      ]
     },
     "execution_count": 12,
     "metadata": {},
     "output_type": "execute_result"
    }
   ],
   "source": [
    "ab_data_cl = ab_data_cl.drop_duplicates(subset='user_id', keep='first')\n",
    "ab_data_cl['landing_page'].value_counts()"
   ]
  },
  {
   "cell_type": "code",
   "execution_count": 13,
   "metadata": {
    "colab": {
     "base_uri": "https://localhost:8080/"
    },
    "executionInfo": {
     "elapsed": 17,
     "status": "ok",
     "timestamp": 1644584734705,
     "user": {
      "displayName": "Ви Колаб",
      "photoUrl": "https://lh3.googleusercontent.com/a-/AOh14GhlJDbx-1O-h8TctKuZMXeldr_Lr4lelXZQ_JrK=s64",
      "userId": "02862000375646745385"
     },
     "user_tz": -120
    },
    "id": "idA5PeE22eM6",
    "outputId": "b44a0a07-5507-4919-e1e0-ef1084714833"
   },
   "outputs": [
    {
     "data": {
      "text/plain": [
       "treatment    145310\n",
       "control      145274\n",
       "Name: group, dtype: int64"
      ]
     },
     "execution_count": 13,
     "metadata": {},
     "output_type": "execute_result"
    }
   ],
   "source": [
    "ab_data_cl['group'].value_counts()"
   ]
  },
  {
   "cell_type": "markdown",
   "metadata": {},
   "source": [
    "Columns now match"
   ]
  },
  {
   "cell_type": "code",
   "execution_count": 14,
   "metadata": {
    "colab": {
     "base_uri": "https://localhost:8080/",
     "height": 49
    },
    "executionInfo": {
     "elapsed": 13,
     "status": "ok",
     "timestamp": 1644584734705,
     "user": {
      "displayName": "Ви Колаб",
      "photoUrl": "https://lh3.googleusercontent.com/a-/AOh14GhlJDbx-1O-h8TctKuZMXeldr_Lr4lelXZQ_JrK=s64",
      "userId": "02862000375646745385"
     },
     "user_tz": -120
    },
    "id": "gdlehD9cFgWg",
    "outputId": "56f4ed49-c570-444e-bed8-a9a67842e337"
   },
   "outputs": [
    {
     "data": {
      "text/html": [
       "<div>\n",
       "<style scoped>\n",
       "    .dataframe tbody tr th:only-of-type {\n",
       "        vertical-align: middle;\n",
       "    }\n",
       "\n",
       "    .dataframe tbody tr th {\n",
       "        vertical-align: top;\n",
       "    }\n",
       "\n",
       "    .dataframe thead th {\n",
       "        text-align: right;\n",
       "    }\n",
       "</style>\n",
       "<table border=\"1\" class=\"dataframe\">\n",
       "  <thead>\n",
       "    <tr style=\"text-align: right;\">\n",
       "      <th></th>\n",
       "      <th>user_id</th>\n",
       "      <th>timestamp</th>\n",
       "      <th>group</th>\n",
       "      <th>landing_page</th>\n",
       "      <th>converted</th>\n",
       "      <th>check_page</th>\n",
       "    </tr>\n",
       "  </thead>\n",
       "  <tbody>\n",
       "  </tbody>\n",
       "</table>\n",
       "</div>"
      ],
      "text/plain": [
       "Empty DataFrame\n",
       "Columns: [user_id, timestamp, group, landing_page, converted, check_page]\n",
       "Index: []"
      ]
     },
     "execution_count": 14,
     "metadata": {},
     "output_type": "execute_result"
    }
   ],
   "source": [
    "ab_data_cl[ab_data_cl['group'] != ab_data_cl['check_page']]"
   ]
  },
  {
   "cell_type": "markdown",
   "metadata": {},
   "source": [
    "After processing the data, it is necessary to determine the number of observations sufficient to conduct the test. \n",
    "\n",
    "As always, we will test the null hypothesis H0, which states that there are no significant differences between the new and old designs. We will also test the alternative hypothesis H1, which states that there are still differencesare still differences\n",
    "\n",
    "I see no need to break the \"gold standard\" and chose alpha = 0.05, power = 0.8. The proportion_effectsize function calculates the effect size for a test comparing two proportions. The conversion rate is currently 12%, with the new page we expect this to increase by 2%. We need 4433 observations for each group"
   ]
  },
  {
   "cell_type": "code",
   "execution_count": 15,
   "metadata": {
    "colab": {
     "base_uri": "https://localhost:8080/"
    },
    "executionInfo": {
     "elapsed": 242,
     "status": "ok",
     "timestamp": 1644586225535,
     "user": {
      "displayName": "Ви Колаб",
      "photoUrl": "https://lh3.googleusercontent.com/a-/AOh14GhlJDbx-1O-h8TctKuZMXeldr_Lr4lelXZQ_JrK=s64",
      "userId": "02862000375646745385"
     },
     "user_tz": -120
    },
    "id": "O0wqj8X6KVoG",
    "outputId": "d0464884-9215-47c8-bb06-393f28f7e0c4"
   },
   "outputs": [
    {
     "data": {
      "text/plain": [
       "4433"
      ]
     },
     "execution_count": 15,
     "metadata": {},
     "output_type": "execute_result"
    }
   ],
   "source": [
    "prop_effsize = sms.proportion_effectsize(0.12, 0.14)\n",
    "alpha = 0.05\n",
    "power = 0.8\n",
    "\n",
    "required_n = sms.NormalIndPower().solve_power(\n",
    "    prop_effsize,  \n",
    "    alpha=alpha,\n",
    "    power=power\n",
    "    )\n",
    "required_n = ceil(required_n)\n",
    "required_n"
   ]
  },
  {
   "cell_type": "markdown",
   "metadata": {},
   "source": [
    "The required number of observations was placed in a separate dataframe."
   ]
  },
  {
   "cell_type": "code",
   "execution_count": 16,
   "metadata": {
    "colab": {
     "base_uri": "https://localhost:8080/",
     "height": 424
    },
    "executionInfo": {
     "elapsed": 9,
     "status": "ok",
     "timestamp": 1644584734706,
     "user": {
      "displayName": "Ви Колаб",
      "photoUrl": "https://lh3.googleusercontent.com/a-/AOh14GhlJDbx-1O-h8TctKuZMXeldr_Lr4lelXZQ_JrK=s64",
      "userId": "02862000375646745385"
     },
     "user_tz": -120
    },
    "id": "Uj6aRrfGjihp",
    "outputId": "3166a1a5-e3dc-455a-a089-52fc5a31b95d"
   },
   "outputs": [
    {
     "data": {
      "text/html": [
       "<div>\n",
       "<style scoped>\n",
       "    .dataframe tbody tr th:only-of-type {\n",
       "        vertical-align: middle;\n",
       "    }\n",
       "\n",
       "    .dataframe tbody tr th {\n",
       "        vertical-align: top;\n",
       "    }\n",
       "\n",
       "    .dataframe thead th {\n",
       "        text-align: right;\n",
       "    }\n",
       "</style>\n",
       "<table border=\"1\" class=\"dataframe\">\n",
       "  <thead>\n",
       "    <tr style=\"text-align: right;\">\n",
       "      <th></th>\n",
       "      <th>user_id</th>\n",
       "      <th>timestamp</th>\n",
       "      <th>group</th>\n",
       "      <th>landing_page</th>\n",
       "      <th>converted</th>\n",
       "      <th>check_page</th>\n",
       "    </tr>\n",
       "  </thead>\n",
       "  <tbody>\n",
       "    <tr>\n",
       "      <th>0</th>\n",
       "      <td>781507</td>\n",
       "      <td>2017-01-02 13:42:15.234051</td>\n",
       "      <td>control</td>\n",
       "      <td>old_page</td>\n",
       "      <td>0</td>\n",
       "      <td>control</td>\n",
       "    </tr>\n",
       "    <tr>\n",
       "      <th>1</th>\n",
       "      <td>737319</td>\n",
       "      <td>2017-01-02 13:42:21.786186</td>\n",
       "      <td>control</td>\n",
       "      <td>old_page</td>\n",
       "      <td>0</td>\n",
       "      <td>control</td>\n",
       "    </tr>\n",
       "    <tr>\n",
       "      <th>2</th>\n",
       "      <td>799109</td>\n",
       "      <td>2017-01-02 13:42:45.219901</td>\n",
       "      <td>control</td>\n",
       "      <td>old_page</td>\n",
       "      <td>0</td>\n",
       "      <td>control</td>\n",
       "    </tr>\n",
       "    <tr>\n",
       "      <th>3</th>\n",
       "      <td>643921</td>\n",
       "      <td>2017-01-02 13:43:03.767329</td>\n",
       "      <td>control</td>\n",
       "      <td>old_page</td>\n",
       "      <td>1</td>\n",
       "      <td>control</td>\n",
       "    </tr>\n",
       "    <tr>\n",
       "      <th>4</th>\n",
       "      <td>677659</td>\n",
       "      <td>2017-01-02 13:43:32.744957</td>\n",
       "      <td>control</td>\n",
       "      <td>old_page</td>\n",
       "      <td>0</td>\n",
       "      <td>control</td>\n",
       "    </tr>\n",
       "    <tr>\n",
       "      <th>...</th>\n",
       "      <td>...</td>\n",
       "      <td>...</td>\n",
       "      <td>...</td>\n",
       "      <td>...</td>\n",
       "      <td>...</td>\n",
       "      <td>...</td>\n",
       "    </tr>\n",
       "    <tr>\n",
       "      <th>8861</th>\n",
       "      <td>816556</td>\n",
       "      <td>2017-01-03 05:39:04.377045</td>\n",
       "      <td>treatment</td>\n",
       "      <td>new_page</td>\n",
       "      <td>0</td>\n",
       "      <td>treatment</td>\n",
       "    </tr>\n",
       "    <tr>\n",
       "      <th>8862</th>\n",
       "      <td>706254</td>\n",
       "      <td>2017-01-03 05:39:46.805443</td>\n",
       "      <td>treatment</td>\n",
       "      <td>new_page</td>\n",
       "      <td>0</td>\n",
       "      <td>treatment</td>\n",
       "    </tr>\n",
       "    <tr>\n",
       "      <th>8863</th>\n",
       "      <td>872254</td>\n",
       "      <td>2017-01-03 05:40:18.166385</td>\n",
       "      <td>treatment</td>\n",
       "      <td>new_page</td>\n",
       "      <td>0</td>\n",
       "      <td>treatment</td>\n",
       "    </tr>\n",
       "    <tr>\n",
       "      <th>8864</th>\n",
       "      <td>832214</td>\n",
       "      <td>2017-01-03 05:40:27.946779</td>\n",
       "      <td>treatment</td>\n",
       "      <td>new_page</td>\n",
       "      <td>0</td>\n",
       "      <td>treatment</td>\n",
       "    </tr>\n",
       "    <tr>\n",
       "      <th>8865</th>\n",
       "      <td>660194</td>\n",
       "      <td>2017-01-03 05:40:38.227138</td>\n",
       "      <td>treatment</td>\n",
       "      <td>new_page</td>\n",
       "      <td>0</td>\n",
       "      <td>treatment</td>\n",
       "    </tr>\n",
       "  </tbody>\n",
       "</table>\n",
       "<p>8866 rows × 6 columns</p>\n",
       "</div>"
      ],
      "text/plain": [
       "      user_id                   timestamp      group landing_page  converted  \\\n",
       "0      781507  2017-01-02 13:42:15.234051    control     old_page          0   \n",
       "1      737319  2017-01-02 13:42:21.786186    control     old_page          0   \n",
       "2      799109  2017-01-02 13:42:45.219901    control     old_page          0   \n",
       "3      643921  2017-01-02 13:43:03.767329    control     old_page          1   \n",
       "4      677659  2017-01-02 13:43:32.744957    control     old_page          0   \n",
       "...       ...                         ...        ...          ...        ...   \n",
       "8861   816556  2017-01-03 05:39:04.377045  treatment     new_page          0   \n",
       "8862   706254  2017-01-03 05:39:46.805443  treatment     new_page          0   \n",
       "8863   872254  2017-01-03 05:40:18.166385  treatment     new_page          0   \n",
       "8864   832214  2017-01-03 05:40:27.946779  treatment     new_page          0   \n",
       "8865   660194  2017-01-03 05:40:38.227138  treatment     new_page          0   \n",
       "\n",
       "     check_page  \n",
       "0       control  \n",
       "1       control  \n",
       "2       control  \n",
       "3       control  \n",
       "4       control  \n",
       "...         ...  \n",
       "8861  treatment  \n",
       "8862  treatment  \n",
       "8863  treatment  \n",
       "8864  treatment  \n",
       "8865  treatment  \n",
       "\n",
       "[8866 rows x 6 columns]"
      ]
     },
     "execution_count": 16,
     "metadata": {},
     "output_type": "execute_result"
    }
   ],
   "source": [
    "ab_required = pd.concat(\n",
    "    [ab_data_cl[ab_data_cl['group'] == 'control'].head(required_n),\n",
    "     ab_data_cl[ab_data_cl['group'] == 'treatment'].head(required_n)], ignore_index=True)\n",
    "\n",
    "ab_required"
   ]
  },
  {
   "cell_type": "markdown",
   "metadata": {},
   "source": [
    "To evaluate the performance of a new page, we need to calculate the conversion, standard deviation, and standard error of the mean for each group. At this stage, the conclusion is that the new page is not more efficient than the old one."
   ]
  },
  {
   "cell_type": "code",
   "execution_count": 17,
   "metadata": {
    "colab": {
     "base_uri": "https://localhost:8080/",
     "height": 143
    },
    "executionInfo": {
     "elapsed": 8,
     "status": "ok",
     "timestamp": 1644584734706,
     "user": {
      "displayName": "Ви Колаб",
      "photoUrl": "https://lh3.googleusercontent.com/a-/AOh14GhlJDbx-1O-h8TctKuZMXeldr_Lr4lelXZQ_JrK=s64",
      "userId": "02862000375646745385"
     },
     "user_tz": -120
    },
    "id": "u6x9zdjLu0YA",
    "outputId": "5bea5abd-837b-4162-abba-43b609a80291"
   },
   "outputs": [
    {
     "data": {
      "text/html": [
       "<style type=\"text/css\">\n",
       "</style>\n",
       "<table id=\"T_90442_\">\n",
       "  <thead>\n",
       "    <tr>\n",
       "      <th class=\"blank level0\" >&nbsp;</th>\n",
       "      <th class=\"col_heading level0 col0\" >conversion_rate</th>\n",
       "      <th class=\"col_heading level0 col1\" >std_deviation</th>\n",
       "      <th class=\"col_heading level0 col2\" >std_error</th>\n",
       "    </tr>\n",
       "    <tr>\n",
       "      <th class=\"index_name level0\" >group</th>\n",
       "      <th class=\"blank col0\" >&nbsp;</th>\n",
       "      <th class=\"blank col1\" >&nbsp;</th>\n",
       "      <th class=\"blank col2\" >&nbsp;</th>\n",
       "    </tr>\n",
       "  </thead>\n",
       "  <tbody>\n",
       "    <tr>\n",
       "      <th id=\"T_90442_level0_row0\" class=\"row_heading level0 row0\" >control</th>\n",
       "      <td id=\"T_90442_row0_col0\" class=\"data row0 col0\" >0.120</td>\n",
       "      <td id=\"T_90442_row0_col1\" class=\"data row0 col1\" >0.324</td>\n",
       "      <td id=\"T_90442_row0_col2\" class=\"data row0 col2\" >0.005</td>\n",
       "    </tr>\n",
       "    <tr>\n",
       "      <th id=\"T_90442_level0_row1\" class=\"row_heading level0 row1\" >treatment</th>\n",
       "      <td id=\"T_90442_row1_col0\" class=\"data row1 col0\" >0.117</td>\n",
       "      <td id=\"T_90442_row1_col1\" class=\"data row1 col1\" >0.321</td>\n",
       "      <td id=\"T_90442_row1_col2\" class=\"data row1 col2\" >0.005</td>\n",
       "    </tr>\n",
       "  </tbody>\n",
       "</table>\n"
      ],
      "text/plain": [
       "<pandas.io.formats.style.Styler at 0x228fd10f3a0>"
      ]
     },
     "execution_count": 17,
     "metadata": {},
     "output_type": "execute_result"
    }
   ],
   "source": [
    "std_dev = lambda x: np.std(x, ddof=0)\n",
    "std_err = lambda x: stats.sem(x, ddof=0)\n",
    "\n",
    "conv_rates = ab_required.groupby('group')['converted']\n",
    "conv_rates = conv_rates.agg([np.mean, std_dev, std_err])\n",
    "\n",
    "conv_rates.columns = ['conversion_rate', 'std_deviation', 'std_error']\n",
    "\n",
    "conv_rates.style.format('{:.3f}')"
   ]
  },
  {
   "cell_type": "code",
   "execution_count": 18,
   "metadata": {
    "colab": {
     "base_uri": "https://localhost:8080/",
     "height": 517
    },
    "executionInfo": {
     "elapsed": 402,
     "status": "ok",
     "timestamp": 1644584735101,
     "user": {
      "displayName": "Ви Колаб",
      "photoUrl": "https://lh3.googleusercontent.com/a-/AOh14GhlJDbx-1O-h8TctKuZMXeldr_Lr4lelXZQ_JrK=s64",
      "userId": "02862000375646745385"
     },
     "user_tz": -120
    },
    "id": "fguT3BWLtYhS",
    "outputId": "8b344a59-dbec-414d-c104-8037ddecfad1"
   },
   "outputs": [
    {
     "data": {
      "image/png": "[encoded data removed]"
     },
     "metadata": {},
     "output_type": "display_data"
    }
   ],
   "source": [
    "sup_defs.bar_plot(\n",
    "    dataf=None, \n",
    "    x=conv_rates['conversion_rate'].index, \n",
    "    y=conv_rates['conversion_rate'].values,\n",
    "    title='Conversion rate',\n",
    "    x_label='Group',\n",
    "    y_label='Conversion rate').show('png')"
   ]
  },
  {
   "cell_type": "markdown",
   "metadata": {},
   "source": [
    "The sample size is large, so z-test will be used. The calculated p-value is much greater than 0.05, which means that the null hypothesis cannot be rejected. Interestingly, our theoretical estimate of 14% conversion on a new page is not even within the confidence interval."
   ]
  },
  {
   "cell_type": "code",
   "execution_count": 19,
   "metadata": {
    "colab": {
     "base_uri": "https://localhost:8080/"
    },
    "executionInfo": {
     "elapsed": 254,
     "status": "ok",
     "timestamp": 1644588471923,
     "user": {
      "displayName": "Ви Колаб",
      "photoUrl": "https://lh3.googleusercontent.com/a-/AOh14GhlJDbx-1O-h8TctKuZMXeldr_Lr4lelXZQ_JrK=s64",
      "userId": "02862000375646745385"
     },
     "user_tz": -120
    },
    "id": "U1cky1ib-PVg",
    "outputId": "18a10e10-b98e-4393-f272-67c12c61440a"
   },
   "outputs": [
    {
     "name": "stdout",
     "output_type": "stream",
     "text": [
      "z statistic: 0.395\n",
      "p-value: 0.693\n",
      "ci 95% Control group: [0.110, 0.129]\n",
      "ci 95% Reatment group: [0.107, 0.126]\n"
     ]
    }
   ],
   "source": [
    "g_counts = [ab_required[ab_required['group'] == 'control']['converted'].sum(), \n",
    "            ab_required[ab_required['group'] == 'treatment']['converted'].sum()]\n",
    "nobs = [required_n, required_n]\n",
    "\n",
    "z_stat, pval = proportions_ztest(\n",
    "    g_counts, \n",
    "    nobs=nobs\n",
    "    )\n",
    "ci_low, ci_upp = proportion_confint(\n",
    "    g_counts, \n",
    "    nobs=nobs, \n",
    "    alpha=alpha\n",
    "    )\n",
    "print(f'z statistic: {z_stat:.3f}')\n",
    "print(f'p-value: {pval:.3f}')\n",
    "print(f'ci 95% Control group: [{ci_low[0]:.3f}, {ci_upp[0]:.3f}]')\n",
    "print(f'ci 95% Reatment group: [{ci_low[1]:.3f}, {ci_upp[1]:.3f}]')"
   ]
  }
 ],
 "metadata": {
  "colab": {
   "authorship_tag": "ABX9TyP40GsF4ZlaEPPY3KNu10HE",
   "collapsed_sections": [],
   "name": "A_B_Testing.ipynb",
   "provenance": []
  },
  "kernelspec": {
   "display_name": "Python 3 (ipykernel)",
   "language": "python",
   "name": "python3"
  },
  "language_info": {
   "codemirror_mode": {
    "name": "ipython",
    "version": 3
   },
   "file_extension": ".py",
   "mimetype": "text/x-python",
   "name": "python",
   "nbconvert_exporter": "python",
   "pygments_lexer": "ipython3",
   "version": "3.10.1"
  }
 },
 "nbformat": 4,
 "nbformat_minor": 4
}
